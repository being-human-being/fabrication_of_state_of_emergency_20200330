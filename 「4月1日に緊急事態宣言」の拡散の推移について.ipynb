{
 "cells": [
  {
   "cell_type": "code",
   "execution_count": 1,
   "metadata": {},
   "outputs": [],
   "source": [
    "%matplotlib inline\n",
    "\n",
    "from collections import namedtuple\n",
    "from IPython.core.pylabtools import figsize\n",
    "import matplotlib.pyplot as plt\n",
    "import pandas as pd\n",
    "from pypika import functions as fn\n",
    "from pypika import Criterion, Query, Table\n",
    "import sqlite3\n",
    "\n",
    "figsize(12.5, 4)"
   ]
  },
  {
   "cell_type": "code",
   "execution_count": 2,
   "metadata": {},
   "outputs": [],
   "source": [
    "conn = sqlite3.connect('data/search3.db')"
   ]
  },
  {
   "cell_type": "code",
   "execution_count": 3,
   "metadata": {},
   "outputs": [
    {
     "data": {
      "text/plain": [
       "[(163224,)]"
      ]
     },
     "execution_count": 3,
     "metadata": {},
     "output_type": "execute_result"
    }
   ],
   "source": [
    "list(conn.execute(str(Query.from_('tweets').select(fn.Count('*')))))"
   ]
  },
  {
   "cell_type": "code",
   "execution_count": 4,
   "metadata": {},
   "outputs": [],
   "source": [
    "from pypika.terms import Function\n",
    "\n",
    "class Substr(Function):\n",
    "    def __init__(self, term, start, stop, alias=None):\n",
    "        super(Substr, self).__init__('SUBSTR', term, start, stop, alias=alias)\n",
    "\n",
    "class DateTrunc(Function):\n",
    "    UNIT_TO_SUBSTR_STOP = {\n",
    "        '10 minutes': 17,\n",
    "        '1 hour': 14,\n",
    "    }\n",
    "    \n",
    "    def __init__(self, date_str, unit='10 minutes', alias=None):\n",
    "        stop = DateTrunc.UNIT_TO_SUBSTR_STOP[unit]\n",
    "        super(DateTrunc, self).__init__('SUBSTR', date_str, 0, stop, alias=alias)    "
   ]
  },
  {
   "cell_type": "code",
   "execution_count": 38,
   "metadata": {},
   "outputs": [],
   "source": [
    "tweets, users = Table('tweets'), Table('users')"
   ]
  },
  {
   "cell_type": "code",
   "execution_count": 6,
   "metadata": {},
   "outputs": [],
   "source": [
    "TweetSummary = namedtuple('TweetSummary', ['created_at', 'count'])\n",
    "\n",
    "def tweet_summary(term, truncated_by='10 minutes'):\n",
    "    s = Query.from_(tweets) \\\n",
    "    .select(\n",
    "        DateTrunc(tweets.created_at, truncated_by, 'truncated_by'),\n",
    "        fn.Count(tweets.id)) \\\n",
    "    .where(tweets.text.like(term)) \\\n",
    "    .groupby('truncated_by')\n",
    "\n",
    "    return [TweetSummary._make(r) for r in conn.execute(str(s))]"
   ]
  },
  {
   "cell_type": "code",
   "execution_count": 7,
   "metadata": {},
   "outputs": [
    {
     "data": {
      "text/html": [
       "<div>\n",
       "<style scoped>\n",
       "    .dataframe tbody tr th:only-of-type {\n",
       "        vertical-align: middle;\n",
       "    }\n",
       "\n",
       "    .dataframe tbody tr th {\n",
       "        vertical-align: top;\n",
       "    }\n",
       "\n",
       "    .dataframe thead th {\n",
       "        text-align: right;\n",
       "    }\n",
       "</style>\n",
       "<table border=\"1\" class=\"dataframe\">\n",
       "  <thead>\n",
       "    <tr style=\"text-align: right;\">\n",
       "      <th></th>\n",
       "      <th>created_at</th>\n",
       "      <th>count</th>\n",
       "      <th>count2</th>\n",
       "    </tr>\n",
       "    <tr>\n",
       "      <th>created_at</th>\n",
       "      <th></th>\n",
       "      <th></th>\n",
       "      <th></th>\n",
       "    </tr>\n",
       "  </thead>\n",
       "  <tbody>\n",
       "    <tr>\n",
       "      <th>1900-03-30 06:32:00</th>\n",
       "      <td>1900-03-30 06:32:00</td>\n",
       "      <td>1</td>\n",
       "      <td>59.0</td>\n",
       "    </tr>\n",
       "    <tr>\n",
       "      <th>1900-03-31 10:30:00</th>\n",
       "      <td>1900-03-31 10:30:00</td>\n",
       "      <td>74</td>\n",
       "      <td>70.0</td>\n",
       "    </tr>\n",
       "    <tr>\n",
       "      <th>1900-03-31 10:31:00</th>\n",
       "      <td>1900-03-31 10:31:00</td>\n",
       "      <td>100</td>\n",
       "      <td>82.0</td>\n",
       "    </tr>\n",
       "    <tr>\n",
       "      <th>1900-03-31 10:32:00</th>\n",
       "      <td>1900-03-31 10:32:00</td>\n",
       "      <td>100</td>\n",
       "      <td>61.0</td>\n",
       "    </tr>\n",
       "    <tr>\n",
       "      <th>1900-03-31 10:33:00</th>\n",
       "      <td>1900-03-31 10:33:00</td>\n",
       "      <td>93</td>\n",
       "      <td>80.0</td>\n",
       "    </tr>\n",
       "  </tbody>\n",
       "</table>\n",
       "</div>"
      ],
      "text/plain": [
       "                             created_at  count  count2\n",
       "created_at                                            \n",
       "1900-03-30 06:32:00 1900-03-30 06:32:00      1    59.0\n",
       "1900-03-31 10:30:00 1900-03-31 10:30:00     74    70.0\n",
       "1900-03-31 10:31:00 1900-03-31 10:31:00    100    82.0\n",
       "1900-03-31 10:32:00 1900-03-31 10:32:00    100    61.0\n",
       "1900-03-31 10:33:00 1900-03-31 10:33:00     93    80.0"
      ]
     },
     "execution_count": 7,
     "metadata": {},
     "output_type": "execute_result"
    }
   ],
   "source": [
    "df = pd.DataFrame(data=tweet_summary('%緊急事態宣言%'))\n",
    "df_ = pd.DataFrame(data=tweet_summary('%ロックダウン%'))\n",
    "df['created_at'] = pd.to_datetime(df['created_at'], format='%a %b %d  %H:%M')\n",
    "df_['created_at'] = pd.to_datetime(df_['created_at'], format='%a %b %d  %H:%M')\n",
    "df['count2'] = df_['count']\n",
    "df = df.set_index('created_at', drop=False)\n",
    "df.head()"
   ]
  },
  {
   "cell_type": "markdown",
   "metadata": {},
   "source": [
    "「緊急事態宣言」と「ロックダウン」のツイート数の時系列推移"
   ]
  },
  {
   "cell_type": "code",
   "execution_count": 10,
   "metadata": {},
   "outputs": [
    {
     "data": {
      "text/plain": [
       "<matplotlib.legend.Legend at 0x7fdf8b1a6430>"
      ]
     },
     "execution_count": 10,
     "metadata": {},
     "output_type": "execute_result"
    },
    {
     "data": {
      "image/png": "[encoded data removed]",
      "text/plain": [
       "<Figure size 900x288 with 1 Axes>"
      ]
     },
     "metadata": {
      "needs_background": "light"
     },
     "output_type": "display_data"
    }
   ],
   "source": [
    "fig, ax = plt.subplots()\n",
    "df.groupby(df['created_at'].dt.round('10min')).sum().plot(kind='bar', ax=ax)\n",
    "ax.legend(['State of Emergency', 'lockdown'])"
   ]
  },
  {
   "cell_type": "markdown",
   "metadata": {},
   "source": [
    "A Field Guide to \"Fake News\"より、\n",
    "\n",
    "```\n",
    "While online and platform metrics often serve to take measure of engagement by\n",
    "means of what Theodore Porter calls “thin descriptions”[11] – i.e. aggregated\n",
    "quantities such as total likes, shares, posts – we suggest different ways of\n",
    "exploring how different publics engage with and ascribe meaning to fake news and\n",
    "how this moves and mobilises different actors in the process.\n",
    "```\n",
    "\n",
    "試しに、retweet 数で足切りした上で、時系列にその tweet を並べてみたい。\n",
    "まず、retweet 数の分布をしりたい"
   ]
  },
  {
   "cell_type": "code",
   "execution_count": 63,
   "metadata": {},
   "outputs": [],
   "source": [
    "Tweet = namedtuple('Tweet', ['id', 'retweet_count', 'created_at', 'screen_name'])\n",
    "\n",
    "def list_tweets(term):\n",
    "    # retweeted_status が json に埋もれてる…あとで取り出すスクリプト書く\n",
    "    s = Query.from_(tweets) \\\n",
    "    .join(users) \\\n",
    "    .on(tweets.tweeted_by == users.id) \\\n",
    "    .select(\n",
    "        tweets.id,\n",
    "        tweets.retweet_count,\n",
    "        tweets.created_at,\n",
    "        users.screen_name) \\\n",
    "    .where(tweets.raw_json.not_like('%retweeted_status%'))\n",
    "    raw_tweets = [Tweet._make(r) for r in conn.execute(str(s))]\n",
    "    df = pd.DataFrame(data=raw_tweets)\n",
    "    df['created_at'] = pd.to_datetime(df['created_at'], format='%a %b %d  %H:%M:%S %z %Y')\n",
    "    df = df.set_index('created_at', drop=False)\n",
    "    return df"
   ]
  },
  {
   "cell_type": "code",
   "execution_count": 64,
   "metadata": {},
   "outputs": [
    {
     "data": {
      "text/html": [
       "<div>\n",
       "<style scoped>\n",
       "    .dataframe tbody tr th:only-of-type {\n",
       "        vertical-align: middle;\n",
       "    }\n",
       "\n",
       "    .dataframe tbody tr th {\n",
       "        vertical-align: top;\n",
       "    }\n",
       "\n",
       "    .dataframe thead th {\n",
       "        text-align: right;\n",
       "    }\n",
       "</style>\n",
       "<table border=\"1\" class=\"dataframe\">\n",
       "  <thead>\n",
       "    <tr style=\"text-align: right;\">\n",
       "      <th></th>\n",
       "      <th>id</th>\n",
       "      <th>retweet_count</th>\n",
       "      <th>created_at</th>\n",
       "      <th>screen_name</th>\n",
       "    </tr>\n",
       "    <tr>\n",
       "      <th>created_at</th>\n",
       "      <th></th>\n",
       "      <th></th>\n",
       "      <th></th>\n",
       "      <th></th>\n",
       "    </tr>\n",
       "  </thead>\n",
       "  <tbody>\n",
       "    <tr>\n",
       "      <th>2020-03-30 08:46:50+00:00</th>\n",
       "      <td>1244546615668379649</td>\n",
       "      <td>188045</td>\n",
       "      <td>2020-03-30 08:46:50+00:00</td>\n",
       "      <td>BakaTonoShimura</td>\n",
       "    </tr>\n",
       "    <tr>\n",
       "      <th>2020-03-30 10:58:37+00:00</th>\n",
       "      <td>1244579780722184193</td>\n",
       "      <td>14454</td>\n",
       "      <td>2020-03-30 10:58:37+00:00</td>\n",
       "      <td>junjunmjgirly</td>\n",
       "    </tr>\n",
       "    <tr>\n",
       "      <th>2020-03-31 14:52:47+00:00</th>\n",
       "      <td>1245001099926327296</td>\n",
       "      <td>0</td>\n",
       "      <td>2020-03-31 14:52:47+00:00</td>\n",
       "      <td>peach_dango</td>\n",
       "    </tr>\n",
       "    <tr>\n",
       "      <th>2020-03-31 14:52:47+00:00</th>\n",
       "      <td>1245001098726739974</td>\n",
       "      <td>0</td>\n",
       "      <td>2020-03-31 14:52:47+00:00</td>\n",
       "      <td>Delta_R</td>\n",
       "    </tr>\n",
       "    <tr>\n",
       "      <th>2020-03-31 14:52:48+00:00</th>\n",
       "      <td>1245001104103837696</td>\n",
       "      <td>0</td>\n",
       "      <td>2020-03-31 14:52:48+00:00</td>\n",
       "      <td>osinisukuwareta</td>\n",
       "    </tr>\n",
       "  </tbody>\n",
       "</table>\n",
       "</div>"
      ],
      "text/plain": [
       "                                            id  retweet_count  \\\n",
       "created_at                                                      \n",
       "2020-03-30 08:46:50+00:00  1244546615668379649         188045   \n",
       "2020-03-30 10:58:37+00:00  1244579780722184193          14454   \n",
       "2020-03-31 14:52:47+00:00  1245001099926327296              0   \n",
       "2020-03-31 14:52:47+00:00  1245001098726739974              0   \n",
       "2020-03-31 14:52:48+00:00  1245001104103837696              0   \n",
       "\n",
       "                                         created_at      screen_name  \n",
       "created_at                                                            \n",
       "2020-03-30 08:46:50+00:00 2020-03-30 08:46:50+00:00  BakaTonoShimura  \n",
       "2020-03-30 10:58:37+00:00 2020-03-30 10:58:37+00:00    junjunmjgirly  \n",
       "2020-03-31 14:52:47+00:00 2020-03-31 14:52:47+00:00      peach_dango  \n",
       "2020-03-31 14:52:47+00:00 2020-03-31 14:52:47+00:00          Delta_R  \n",
       "2020-03-31 14:52:48+00:00 2020-03-31 14:52:48+00:00  osinisukuwareta  "
      ]
     },
     "execution_count": 64,
     "metadata": {},
     "output_type": "execute_result"
    }
   ],
   "source": [
    "df = list_tweets('%緊急事態宣言%')\n",
    "df.head()"
   ]
  },
  {
   "cell_type": "code",
   "execution_count": 65,
   "metadata": {},
   "outputs": [
    {
     "data": {
      "text/plain": [
       "<matplotlib.axes._subplots.AxesSubplot at 0x7fdf8686ef10>"
      ]
     },
     "execution_count": 65,
     "metadata": {},
     "output_type": "execute_result"
    },
    {
     "data": {
      "image/png": "[encoded data removed]",
      "text/plain": [
       "<Figure size 900x288 with 1 Axes>"
      ]
     },
     "metadata": {
      "needs_background": "light"
     },
     "output_type": "display_data"
    }
   ],
   "source": [
    "fig, ax = plt.subplots()\n",
    "df['retweet_count'].hist(ax=ax, bins=100)"
   ]
  },
  {
   "cell_type": "code",
   "execution_count": 75,
   "metadata": {},
   "outputs": [
    {
     "data": {
      "text/plain": [
       "<matplotlib.axes._subplots.AxesSubplot at 0x7fdf83085550>"
      ]
     },
     "execution_count": 75,
     "metadata": {},
     "output_type": "execute_result"
    },
    {
     "data": {
      "image/png": "[encoded data removed]",
      "text/plain": [
       "<Figure size 900x288 with 1 Axes>"
      ]
     },
     "metadata": {
      "needs_background": "light"
     },
     "output_type": "display_data"
    }
   ],
   "source": [
    "fig, ax = plt.subplots()\n",
    "df[(100 < df['retweet_count']) & (df['retweet_count'] < 10_000)]['retweet_count'].hist(ax=ax, bins=100)"
   ]
  },
  {
   "cell_type": "code",
   "execution_count": 76,
   "metadata": {},
   "outputs": [
    {
     "data": {
      "text/plain": [
       "id               25894\n",
       "retweet_count    25894\n",
       "created_at       25894\n",
       "screen_name      25894\n",
       "dtype: int64"
      ]
     },
     "execution_count": 76,
     "metadata": {},
     "output_type": "execute_result"
    }
   ],
   "source": [
    "df.count()"
   ]
  },
  {
   "cell_type": "code",
   "execution_count": 77,
   "metadata": {},
   "outputs": [
    {
     "data": {
      "text/plain": [
       "id               17\n",
       "retweet_count    17\n",
       "created_at       17\n",
       "screen_name      17\n",
       "dtype: int64"
      ]
     },
     "execution_count": 77,
     "metadata": {},
     "output_type": "execute_result"
    }
   ],
   "source": [
    "df[df['retweet_count'] > 1_000].count()"
   ]
  },
  {
   "cell_type": "code",
   "execution_count": 78,
   "metadata": {},
   "outputs": [
    {
     "data": {
      "text/html": [
       "<div>\n",
       "<style scoped>\n",
       "    .dataframe tbody tr th:only-of-type {\n",
       "        vertical-align: middle;\n",
       "    }\n",
       "\n",
       "    .dataframe tbody tr th {\n",
       "        vertical-align: top;\n",
       "    }\n",
       "\n",
       "    .dataframe thead th {\n",
       "        text-align: right;\n",
       "    }\n",
       "</style>\n",
       "<table border=\"1\" class=\"dataframe\">\n",
       "  <thead>\n",
       "    <tr style=\"text-align: right;\">\n",
       "      <th></th>\n",
       "      <th>id</th>\n",
       "      <th>retweet_count</th>\n",
       "      <th>created_at</th>\n",
       "      <th>screen_name</th>\n",
       "    </tr>\n",
       "    <tr>\n",
       "      <th>created_at</th>\n",
       "      <th></th>\n",
       "      <th></th>\n",
       "      <th></th>\n",
       "      <th></th>\n",
       "    </tr>\n",
       "  </thead>\n",
       "  <tbody>\n",
       "    <tr>\n",
       "      <th>2020-03-30 08:46:50+00:00</th>\n",
       "      <td>1244546615668379649</td>\n",
       "      <td>188045</td>\n",
       "      <td>2020-03-30 08:46:50+00:00</td>\n",
       "      <td>BakaTonoShimura</td>\n",
       "    </tr>\n",
       "    <tr>\n",
       "      <th>2020-03-30 10:58:37+00:00</th>\n",
       "      <td>1244579780722184193</td>\n",
       "      <td>14454</td>\n",
       "      <td>2020-03-30 10:58:37+00:00</td>\n",
       "      <td>junjunmjgirly</td>\n",
       "    </tr>\n",
       "    <tr>\n",
       "      <th>2020-03-31 13:32:16+00:00</th>\n",
       "      <td>1244980834152484864</td>\n",
       "      <td>1249</td>\n",
       "      <td>2020-03-31 13:32:16+00:00</td>\n",
       "      <td>inugamikorone</td>\n",
       "    </tr>\n",
       "    <tr>\n",
       "      <th>2020-03-31 14:01:49+00:00</th>\n",
       "      <td>1244988271337164801</td>\n",
       "      <td>1029</td>\n",
       "      <td>2020-03-31 14:01:49+00:00</td>\n",
       "      <td>katsuyatakasu</td>\n",
       "    </tr>\n",
       "    <tr>\n",
       "      <th>2020-03-30 06:32:15+00:00</th>\n",
       "      <td>1244512745484996609</td>\n",
       "      <td>24550</td>\n",
       "      <td>2020-03-30 06:32:15+00:00</td>\n",
       "      <td>YahooNewsTopics</td>\n",
       "    </tr>\n",
       "    <tr>\n",
       "      <th>2020-03-31 13:49:15+00:00</th>\n",
       "      <td>1244985107699523584</td>\n",
       "      <td>1278</td>\n",
       "      <td>2020-03-31 13:49:15+00:00</td>\n",
       "      <td>YahooNewsTopics</td>\n",
       "    </tr>\n",
       "    <tr>\n",
       "      <th>2020-03-31 12:56:46+00:00</th>\n",
       "      <td>1244971901379727363</td>\n",
       "      <td>4219</td>\n",
       "      <td>2020-03-31 12:56:46+00:00</td>\n",
       "      <td>TE_RUR_ET</td>\n",
       "    </tr>\n",
       "    <tr>\n",
       "      <th>2020-03-31 12:31:43+00:00</th>\n",
       "      <td>1244965599375003650</td>\n",
       "      <td>4426</td>\n",
       "      <td>2020-03-31 12:31:43+00:00</td>\n",
       "      <td>ensemble_stars</td>\n",
       "    </tr>\n",
       "    <tr>\n",
       "      <th>2020-03-31 12:30:15+00:00</th>\n",
       "      <td>1244965228544053249</td>\n",
       "      <td>3136</td>\n",
       "      <td>2020-03-31 12:30:15+00:00</td>\n",
       "      <td>hoseki_gaoka</td>\n",
       "    </tr>\n",
       "    <tr>\n",
       "      <th>2020-03-31 12:32:02+00:00</th>\n",
       "      <td>1244965678005678087</td>\n",
       "      <td>2788</td>\n",
       "      <td>2020-03-31 12:32:02+00:00</td>\n",
       "      <td>hoseki_gaoka</td>\n",
       "    </tr>\n",
       "    <tr>\n",
       "      <th>2020-03-31 12:19:43+00:00</th>\n",
       "      <td>1244962575936176128</td>\n",
       "      <td>2330</td>\n",
       "      <td>2020-03-31 12:19:43+00:00</td>\n",
       "      <td>vanguard_zero_</td>\n",
       "    </tr>\n",
       "    <tr>\n",
       "      <th>2020-03-31 11:45:33+00:00</th>\n",
       "      <td>1244953979148062722</td>\n",
       "      <td>1565</td>\n",
       "      <td>2020-03-31 11:45:33+00:00</td>\n",
       "      <td>bayst_0617</td>\n",
       "    </tr>\n",
       "    <tr>\n",
       "      <th>2020-03-31 12:24:42+00:00</th>\n",
       "      <td>1244963831681388544</td>\n",
       "      <td>1883</td>\n",
       "      <td>2020-03-31 12:24:42+00:00</td>\n",
       "      <td>Merem110</td>\n",
       "    </tr>\n",
       "    <tr>\n",
       "      <th>2020-03-31 11:22:46+00:00</th>\n",
       "      <td>1244948246138482689</td>\n",
       "      <td>2520</td>\n",
       "      <td>2020-03-31 11:22:46+00:00</td>\n",
       "      <td>sweetroad5</td>\n",
       "    </tr>\n",
       "    <tr>\n",
       "      <th>2020-03-31 11:10:35+00:00</th>\n",
       "      <td>1244945179498303489</td>\n",
       "      <td>2092</td>\n",
       "      <td>2020-03-31 11:10:35+00:00</td>\n",
       "      <td>Granblue_GW</td>\n",
       "    </tr>\n",
       "    <tr>\n",
       "      <th>2020-03-31 11:00:00+00:00</th>\n",
       "      <td>1244942515544834049</td>\n",
       "      <td>6960</td>\n",
       "      <td>2020-03-31 11:00:00+00:00</td>\n",
       "      <td>mahoyaku_info</td>\n",
       "    </tr>\n",
       "    <tr>\n",
       "      <th>2020-03-31 10:41:04+00:00</th>\n",
       "      <td>1244937751578832896</td>\n",
       "      <td>3364</td>\n",
       "      <td>2020-03-31 10:41:04+00:00</td>\n",
       "      <td>osamun24</td>\n",
       "    </tr>\n",
       "  </tbody>\n",
       "</table>\n",
       "</div>"
      ],
      "text/plain": [
       "                                            id  retweet_count  \\\n",
       "created_at                                                      \n",
       "2020-03-30 08:46:50+00:00  1244546615668379649         188045   \n",
       "2020-03-30 10:58:37+00:00  1244579780722184193          14454   \n",
       "2020-03-31 13:32:16+00:00  1244980834152484864           1249   \n",
       "2020-03-31 14:01:49+00:00  1244988271337164801           1029   \n",
       "2020-03-30 06:32:15+00:00  1244512745484996609          24550   \n",
       "2020-03-31 13:49:15+00:00  1244985107699523584           1278   \n",
       "2020-03-31 12:56:46+00:00  1244971901379727363           4219   \n",
       "2020-03-31 12:31:43+00:00  1244965599375003650           4426   \n",
       "2020-03-31 12:30:15+00:00  1244965228544053249           3136   \n",
       "2020-03-31 12:32:02+00:00  1244965678005678087           2788   \n",
       "2020-03-31 12:19:43+00:00  1244962575936176128           2330   \n",
       "2020-03-31 11:45:33+00:00  1244953979148062722           1565   \n",
       "2020-03-31 12:24:42+00:00  1244963831681388544           1883   \n",
       "2020-03-31 11:22:46+00:00  1244948246138482689           2520   \n",
       "2020-03-31 11:10:35+00:00  1244945179498303489           2092   \n",
       "2020-03-31 11:00:00+00:00  1244942515544834049           6960   \n",
       "2020-03-31 10:41:04+00:00  1244937751578832896           3364   \n",
       "\n",
       "                                         created_at      screen_name  \n",
       "created_at                                                            \n",
       "2020-03-30 08:46:50+00:00 2020-03-30 08:46:50+00:00  BakaTonoShimura  \n",
       "2020-03-30 10:58:37+00:00 2020-03-30 10:58:37+00:00    junjunmjgirly  \n",
       "2020-03-31 13:32:16+00:00 2020-03-31 13:32:16+00:00    inugamikorone  \n",
       "2020-03-31 14:01:49+00:00 2020-03-31 14:01:49+00:00    katsuyatakasu  \n",
       "2020-03-30 06:32:15+00:00 2020-03-30 06:32:15+00:00  YahooNewsTopics  \n",
       "2020-03-31 13:49:15+00:00 2020-03-31 13:49:15+00:00  YahooNewsTopics  \n",
       "2020-03-31 12:56:46+00:00 2020-03-31 12:56:46+00:00        TE_RUR_ET  \n",
       "2020-03-31 12:31:43+00:00 2020-03-31 12:31:43+00:00   ensemble_stars  \n",
       "2020-03-31 12:30:15+00:00 2020-03-31 12:30:15+00:00     hoseki_gaoka  \n",
       "2020-03-31 12:32:02+00:00 2020-03-31 12:32:02+00:00     hoseki_gaoka  \n",
       "2020-03-31 12:19:43+00:00 2020-03-31 12:19:43+00:00   vanguard_zero_  \n",
       "2020-03-31 11:45:33+00:00 2020-03-31 11:45:33+00:00       bayst_0617  \n",
       "2020-03-31 12:24:42+00:00 2020-03-31 12:24:42+00:00         Merem110  \n",
       "2020-03-31 11:22:46+00:00 2020-03-31 11:22:46+00:00       sweetroad5  \n",
       "2020-03-31 11:10:35+00:00 2020-03-31 11:10:35+00:00      Granblue_GW  \n",
       "2020-03-31 11:00:00+00:00 2020-03-31 11:00:00+00:00    mahoyaku_info  \n",
       "2020-03-31 10:41:04+00:00 2020-03-31 10:41:04+00:00         osamun24  "
      ]
     },
     "execution_count": 78,
     "metadata": {},
     "output_type": "execute_result"
    }
   ],
   "source": [
    "df[df['retweet_count'] > 1_000]"
   ]
  },
  {
   "cell_type": "code",
   "execution_count": 79,
   "metadata": {},
   "outputs": [
    {
     "data": {
      "text/plain": [
       "<matplotlib.axes._subplots.AxesSubplot at 0x7fdf82f972e0>"
      ]
     },
     "execution_count": 79,
     "metadata": {},
     "output_type": "execute_result"
    },
    {
     "data": {
      "image/png": "[encoded data removed]",
      "text/plain": [
       "<Figure size 900x288 with 1 Axes>"
      ]
     },
     "metadata": {
      "needs_background": "light"
     },
     "output_type": "display_data"
    }
   ],
   "source": [
    "fig, ax = plt.subplots()\n",
    "df[df['retweet_count'] > 1_000]['retweet_count'].hist(ax=ax, bins=100)"
   ]
  },
  {
   "cell_type": "code",
   "execution_count": 84,
   "metadata": {},
   "outputs": [],
   "source": [
    "import hashlib\n",
    "\n",
    "def naive_hash(text):\n",
    "    return hashlib.sha1(text.encode('utf-8')).hexdigest()\n",
    "\n",
    "df_gt_1_000_retweets = df[df['retweet_count'] > 1_000]\n",
    "df_gt_1_000_retweets.drop('id', axis=1, inplace=True)\n",
    "df_gt_1_000_retweets.loc[:, 'screen_name'] = \\\n",
    "    df_gt_1_000_retweets.loc[:, 'screen_name'].map(naive_hash)"
   ]
  },
  {
   "cell_type": "code",
   "execution_count": 85,
   "metadata": {},
   "outputs": [
    {
     "data": {
      "text/html": [
       "<div>\n",
       "<style scoped>\n",
       "    .dataframe tbody tr th:only-of-type {\n",
       "        vertical-align: middle;\n",
       "    }\n",
       "\n",
       "    .dataframe tbody tr th {\n",
       "        vertical-align: top;\n",
       "    }\n",
       "\n",
       "    .dataframe thead th {\n",
       "        text-align: right;\n",
       "    }\n",
       "</style>\n",
       "<table border=\"1\" class=\"dataframe\">\n",
       "  <thead>\n",
       "    <tr style=\"text-align: right;\">\n",
       "      <th></th>\n",
       "      <th>retweet_count</th>\n",
       "      <th>created_at</th>\n",
       "      <th>screen_name</th>\n",
       "    </tr>\n",
       "    <tr>\n",
       "      <th>created_at</th>\n",
       "      <th></th>\n",
       "      <th></th>\n",
       "      <th></th>\n",
       "    </tr>\n",
       "  </thead>\n",
       "  <tbody>\n",
       "    <tr>\n",
       "      <th>2020-03-30 08:46:50+00:00</th>\n",
       "      <td>188045</td>\n",
       "      <td>2020-03-30 08:46:50+00:00</td>\n",
       "      <td>b470a15eae97c3b27f288d0c1fc7c22ff8b1aa05</td>\n",
       "    </tr>\n",
       "    <tr>\n",
       "      <th>2020-03-30 10:58:37+00:00</th>\n",
       "      <td>14454</td>\n",
       "      <td>2020-03-30 10:58:37+00:00</td>\n",
       "      <td>5c10945a3664104863a171deae76279022980f7a</td>\n",
       "    </tr>\n",
       "    <tr>\n",
       "      <th>2020-03-31 13:32:16+00:00</th>\n",
       "      <td>1249</td>\n",
       "      <td>2020-03-31 13:32:16+00:00</td>\n",
       "      <td>02116f479ca79460486f223808d7fa626d0b0f08</td>\n",
       "    </tr>\n",
       "    <tr>\n",
       "      <th>2020-03-31 14:01:49+00:00</th>\n",
       "      <td>1029</td>\n",
       "      <td>2020-03-31 14:01:49+00:00</td>\n",
       "      <td>dc407606b8099f6dc39e9a14c215ef2c4d9ef569</td>\n",
       "    </tr>\n",
       "    <tr>\n",
       "      <th>2020-03-30 06:32:15+00:00</th>\n",
       "      <td>24550</td>\n",
       "      <td>2020-03-30 06:32:15+00:00</td>\n",
       "      <td>086450986c76ec02c1454d0b036418039c96a74e</td>\n",
       "    </tr>\n",
       "    <tr>\n",
       "      <th>2020-03-31 13:49:15+00:00</th>\n",
       "      <td>1278</td>\n",
       "      <td>2020-03-31 13:49:15+00:00</td>\n",
       "      <td>086450986c76ec02c1454d0b036418039c96a74e</td>\n",
       "    </tr>\n",
       "    <tr>\n",
       "      <th>2020-03-31 12:56:46+00:00</th>\n",
       "      <td>4219</td>\n",
       "      <td>2020-03-31 12:56:46+00:00</td>\n",
       "      <td>574620eaf43f49c1ccce5c610ac2b813d7a75ec3</td>\n",
       "    </tr>\n",
       "    <tr>\n",
       "      <th>2020-03-31 12:31:43+00:00</th>\n",
       "      <td>4426</td>\n",
       "      <td>2020-03-31 12:31:43+00:00</td>\n",
       "      <td>4d54d1f53c8051dd0e17521fbd942a40cab014e8</td>\n",
       "    </tr>\n",
       "    <tr>\n",
       "      <th>2020-03-31 12:30:15+00:00</th>\n",
       "      <td>3136</td>\n",
       "      <td>2020-03-31 12:30:15+00:00</td>\n",
       "      <td>b897ee31ac93d1f43e13ff602f9220633c97c926</td>\n",
       "    </tr>\n",
       "    <tr>\n",
       "      <th>2020-03-31 12:32:02+00:00</th>\n",
       "      <td>2788</td>\n",
       "      <td>2020-03-31 12:32:02+00:00</td>\n",
       "      <td>b897ee31ac93d1f43e13ff602f9220633c97c926</td>\n",
       "    </tr>\n",
       "    <tr>\n",
       "      <th>2020-03-31 12:19:43+00:00</th>\n",
       "      <td>2330</td>\n",
       "      <td>2020-03-31 12:19:43+00:00</td>\n",
       "      <td>0b53c18a49cb65d032d82ad958e52b7738c12ec5</td>\n",
       "    </tr>\n",
       "    <tr>\n",
       "      <th>2020-03-31 11:45:33+00:00</th>\n",
       "      <td>1565</td>\n",
       "      <td>2020-03-31 11:45:33+00:00</td>\n",
       "      <td>69ef891de8399566025c15c1f356606956636c9e</td>\n",
       "    </tr>\n",
       "    <tr>\n",
       "      <th>2020-03-31 12:24:42+00:00</th>\n",
       "      <td>1883</td>\n",
       "      <td>2020-03-31 12:24:42+00:00</td>\n",
       "      <td>629b9b0a41362ed1cd6a88b68cd29609022e50dc</td>\n",
       "    </tr>\n",
       "    <tr>\n",
       "      <th>2020-03-31 11:22:46+00:00</th>\n",
       "      <td>2520</td>\n",
       "      <td>2020-03-31 11:22:46+00:00</td>\n",
       "      <td>134490e5fa4eb706fac1a2c8db1cb84f1be6ef23</td>\n",
       "    </tr>\n",
       "    <tr>\n",
       "      <th>2020-03-31 11:10:35+00:00</th>\n",
       "      <td>2092</td>\n",
       "      <td>2020-03-31 11:10:35+00:00</td>\n",
       "      <td>fc73fb1cf06b961db7be9a5adffbf7cc153c28be</td>\n",
       "    </tr>\n",
       "    <tr>\n",
       "      <th>2020-03-31 11:00:00+00:00</th>\n",
       "      <td>6960</td>\n",
       "      <td>2020-03-31 11:00:00+00:00</td>\n",
       "      <td>2a3be3e3b79dfae01bf47474ace242c45694d76d</td>\n",
       "    </tr>\n",
       "    <tr>\n",
       "      <th>2020-03-31 10:41:04+00:00</th>\n",
       "      <td>3364</td>\n",
       "      <td>2020-03-31 10:41:04+00:00</td>\n",
       "      <td>de8566c76ac92ce76929599d8ecc47e4b8c39f42</td>\n",
       "    </tr>\n",
       "  </tbody>\n",
       "</table>\n",
       "</div>"
      ],
      "text/plain": [
       "                           retweet_count                created_at  \\\n",
       "created_at                                                           \n",
       "2020-03-30 08:46:50+00:00         188045 2020-03-30 08:46:50+00:00   \n",
       "2020-03-30 10:58:37+00:00          14454 2020-03-30 10:58:37+00:00   \n",
       "2020-03-31 13:32:16+00:00           1249 2020-03-31 13:32:16+00:00   \n",
       "2020-03-31 14:01:49+00:00           1029 2020-03-31 14:01:49+00:00   \n",
       "2020-03-30 06:32:15+00:00          24550 2020-03-30 06:32:15+00:00   \n",
       "2020-03-31 13:49:15+00:00           1278 2020-03-31 13:49:15+00:00   \n",
       "2020-03-31 12:56:46+00:00           4219 2020-03-31 12:56:46+00:00   \n",
       "2020-03-31 12:31:43+00:00           4426 2020-03-31 12:31:43+00:00   \n",
       "2020-03-31 12:30:15+00:00           3136 2020-03-31 12:30:15+00:00   \n",
       "2020-03-31 12:32:02+00:00           2788 2020-03-31 12:32:02+00:00   \n",
       "2020-03-31 12:19:43+00:00           2330 2020-03-31 12:19:43+00:00   \n",
       "2020-03-31 11:45:33+00:00           1565 2020-03-31 11:45:33+00:00   \n",
       "2020-03-31 12:24:42+00:00           1883 2020-03-31 12:24:42+00:00   \n",
       "2020-03-31 11:22:46+00:00           2520 2020-03-31 11:22:46+00:00   \n",
       "2020-03-31 11:10:35+00:00           2092 2020-03-31 11:10:35+00:00   \n",
       "2020-03-31 11:00:00+00:00           6960 2020-03-31 11:00:00+00:00   \n",
       "2020-03-31 10:41:04+00:00           3364 2020-03-31 10:41:04+00:00   \n",
       "\n",
       "                                                        screen_name  \n",
       "created_at                                                           \n",
       "2020-03-30 08:46:50+00:00  b470a15eae97c3b27f288d0c1fc7c22ff8b1aa05  \n",
       "2020-03-30 10:58:37+00:00  5c10945a3664104863a171deae76279022980f7a  \n",
       "2020-03-31 13:32:16+00:00  02116f479ca79460486f223808d7fa626d0b0f08  \n",
       "2020-03-31 14:01:49+00:00  dc407606b8099f6dc39e9a14c215ef2c4d9ef569  \n",
       "2020-03-30 06:32:15+00:00  086450986c76ec02c1454d0b036418039c96a74e  \n",
       "2020-03-31 13:49:15+00:00  086450986c76ec02c1454d0b036418039c96a74e  \n",
       "2020-03-31 12:56:46+00:00  574620eaf43f49c1ccce5c610ac2b813d7a75ec3  \n",
       "2020-03-31 12:31:43+00:00  4d54d1f53c8051dd0e17521fbd942a40cab014e8  \n",
       "2020-03-31 12:30:15+00:00  b897ee31ac93d1f43e13ff602f9220633c97c926  \n",
       "2020-03-31 12:32:02+00:00  b897ee31ac93d1f43e13ff602f9220633c97c926  \n",
       "2020-03-31 12:19:43+00:00  0b53c18a49cb65d032d82ad958e52b7738c12ec5  \n",
       "2020-03-31 11:45:33+00:00  69ef891de8399566025c15c1f356606956636c9e  \n",
       "2020-03-31 12:24:42+00:00  629b9b0a41362ed1cd6a88b68cd29609022e50dc  \n",
       "2020-03-31 11:22:46+00:00  134490e5fa4eb706fac1a2c8db1cb84f1be6ef23  \n",
       "2020-03-31 11:10:35+00:00  fc73fb1cf06b961db7be9a5adffbf7cc153c28be  \n",
       "2020-03-31 11:00:00+00:00  2a3be3e3b79dfae01bf47474ace242c45694d76d  \n",
       "2020-03-31 10:41:04+00:00  de8566c76ac92ce76929599d8ecc47e4b8c39f42  "
      ]
     },
     "execution_count": 85,
     "metadata": {},
     "output_type": "execute_result"
    }
   ],
   "source": [
    "df_gt_1_000_retweets"
   ]
  },
  {
   "cell_type": "code",
   "execution_count": 86,
   "metadata": {},
   "outputs": [],
   "source": [
    "df_gt_1_000_retweets.to_csv('data/over_1_000_retweets.csv')"
   ]
  },
  {
   "cell_type": "code",
   "execution_count": null,
   "metadata": {},
   "outputs": [],
   "source": []
  }
 ],
 "metadata": {
  "kernelspec": {
   "display_name": "Python 3",
   "language": "python",
   "name": "python3"
  },
  "language_info": {
   "codemirror_mode": {
    "name": "ipython",
    "version": 3
   },
   "file_extension": ".py",
   "mimetype": "text/x-python",
   "name": "python",
   "nbconvert_exporter": "python",
   "pygments_lexer": "ipython3",
   "version": "3.8.1"
  }
 },
 "nbformat": 4,
 "nbformat_minor": 4
}
