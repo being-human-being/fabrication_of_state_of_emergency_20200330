{
 "cells": [
  {
   "cell_type": "code",
   "execution_count": 117,
   "metadata": {},
   "outputs": [],
   "source": [
    "%matplotlib inline\n",
    "\n",
    "from collections import namedtuple\n",
    "from contextlib import contextmanager\n",
    "from IPython.core.pylabtools import figsize\n",
    "import matplotlib.pyplot as plt\n",
    "import mysql.connector\n",
    "import pandas as pd\n",
    "from pypika import functions as fn\n",
    "from pypika import MySQLQuery as Query, Table\n",
    "from pypika.terms import CustomFunction, Function, Term\n",
    "import re\n",
    "\n",
    "figsize(12.5, 4)"
   ]
  },
  {
   "cell_type": "code",
   "execution_count": 118,
   "metadata": {},
   "outputs": [],
   "source": [
    "@contextmanager\n",
    "def managed_cnx():\n",
    "        cnx = mysql.connector.connect(\n",
    "            user='root', password='root',\n",
    "            database='twitter', charset='utf8mb4')\n",
    "        try:\n",
    "            yield cnx\n",
    "        finally:\n",
    "            cnx.close()\n",
    "\n",
    "@contextmanager\n",
    "def managed_cursor(**kwargs):\n",
    "    with managed_cnx() as cnx:\n",
    "        cursor = cnx.cursor(**kwargs)\n",
    "        try:\n",
    "            yield cursor\n",
    "        finally:\n",
    "            cursor.close()"
   ]
  },
  {
   "cell_type": "code",
   "execution_count": 119,
   "metadata": {},
   "outputs": [
    {
     "name": "stdout",
     "output_type": "stream",
     "text": [
      "(450797,)\n"
     ]
    }
   ],
   "source": [
    "with managed_cursor() as cursor:\n",
    "    cursor.execute(str(Query.from_('tweets').select(fn.Count('*'))))\n",
    "    print(cursor.fetchone())"
   ]
  },
  {
   "cell_type": "code",
   "execution_count": 120,
   "metadata": {},
   "outputs": [],
   "source": [
    "UnixTimestamp = CustomFunction('unix_timestamp', ['date'])\n",
    "FromUnixtime = CustomFunction('from_unixtime', ['unixtime'])\n",
    "ConvertTz = CustomFunction('convert_tz', ['dt', 'from_tz', 'to_tz'])"
   ]
  },
  {
   "cell_type": "code",
   "execution_count": 121,
   "metadata": {},
   "outputs": [],
   "source": [
    "tweets, users = Table('tweets'), Table('users')"
   ]
  },
  {
   "cell_type": "code",
   "execution_count": 122,
   "metadata": {},
   "outputs": [],
   "source": [
    "KeywordTrajectory = namedtuple('KeywordTrajectory', ['created_at', 'count'])\n",
    "\n",
    "# TODO: keyword による絞り込み\n",
    "def keyword_trajectory(cursor, truncated_by='10 minutes'):\n",
    "    minutes = re.sub(r'^(\\d+)\\s+minutes$', r'\\1', truncated_by)\n",
    "    assert(minutes.isdecimal())\n",
    "    seconds = 60 * int(minutes)\n",
    "\n",
    "    created_at_alias = 'truncated_by_{}min'.format(minutes)\n",
    "    created_at = ConvertTz(FromUnixtime(fn.Floor(\n",
    "            UnixTimestamp(tweets.created_at) / seconds) * seconds),\n",
    "            'GMT', 'Asia/Tokyo')\n",
    "\n",
    "    s = Query.from_(tweets) \\\n",
    "    .select(\n",
    "        created_at.as_(created_at_alias),\n",
    "        fn.Count(tweets.id)) \\\n",
    "    .groupby(created_at_alias)\n",
    "    \n",
    "    print('SQL: {}'.format(s))\n",
    "    cursor.execute(str(s))\n",
    "\n",
    "    return [KeywordTrajectory._make(r) for r in cursor]"
   ]
  },
  {
   "cell_type": "code",
   "execution_count": 123,
   "metadata": {},
   "outputs": [
    {
     "name": "stdout",
     "output_type": "stream",
     "text": [
      "SQL: SELECT convert_tz(from_unixtime(FLOOR(unix_timestamp(`created_at`)/600)*600),'GMT','Asia/Tokyo') `truncated_by_10min`,COUNT(`id`) FROM `tweets` GROUP BY `truncated_by_10min`\n",
      "                     count\n",
      "created_at                \n",
      "2020-03-29 13:40:00   1174\n",
      "2020-03-29 13:50:00   1917\n",
      "2020-03-29 14:00:00   1896\n",
      "2020-03-29 14:10:00   1872\n",
      "2020-03-29 14:20:00   1971\n"
     ]
    }
   ],
   "source": [
    "with managed_cursor(buffered=True) as cursor:\n",
    "    df = pd.DataFrame(data=keyword_trajectory(cursor, truncated_by='10 minutes'))\n",
    "    df = df.set_index('created_at')\n",
    "    print(df.head())"
   ]
  },
  {
   "cell_type": "code",
   "execution_count": 124,
   "metadata": {},
   "outputs": [],
   "source": [
    "df = df.loc['2020-03-29 14:00:00':'2020-03-30 23:40:00']"
   ]
  },
  {
   "cell_type": "markdown",
   "metadata": {},
   "source": [
    "「緊急事態宣言」と「ロックダウン」のツイート数の時系列推移"
   ]
  },
  {
   "cell_type": "code",
   "execution_count": 125,
   "metadata": {},
   "outputs": [
    {
     "data": {
      "text/plain": [
       "<matplotlib.axes._subplots.AxesSubplot at 0x7f60f8d2b040>"
      ]
     },
     "execution_count": 125,
     "metadata": {},
     "output_type": "execute_result"
    },
    {
     "data": {
      "image/png": "[encoded data removed]",
      "text/plain": [
       "<Figure size 900x288 with 1 Axes>"
      ]
     },
     "metadata": {
      "needs_background": "light"
     },
     "output_type": "display_data"
    }
   ],
   "source": [
    "fig, ax = plt.subplots()\n",
    "df.plot(kind='line', ax=ax)"
   ]
  },
  {
   "cell_type": "markdown",
   "metadata": {},
   "source": [
    "ローカル線形ドレンドモデルによるモデル化をしてみる。"
   ]
  },
  {
   "cell_type": "code",
   "execution_count": 126,
   "metadata": {},
   "outputs": [],
   "source": [
    "\"\"\"\n",
    "Univariate Local Linear Trend Model\n",
    "\"\"\"\n",
    "class LocalLinearTrend(sm.tsa.statespace.MLEModel):\n",
    "    def __init__(self, endog):\n",
    "        # Model order\n",
    "        k_states = k_posdef = 2\n",
    "\n",
    "        # Initialize the statespace\n",
    "        super(LocalLinearTrend, self).__init__(\n",
    "            endog, k_states=k_states, k_posdef=k_posdef,\n",
    "            initialization='approximate_diffuse',\n",
    "            loglikelihood_burn=k_states\n",
    "        )\n",
    "\n",
    "        # Initialize the matrices\n",
    "        self.ssm['design'] = np.array([1, 0])\n",
    "        self.ssm['transition'] = np.array([[1, 1],\n",
    "                                       [0, 1]])\n",
    "        self.ssm['selection'] = np.eye(k_states)\n",
    "\n",
    "        # Cache some indices\n",
    "        self._state_cov_idx = ('state_cov',) + np.diag_indices(k_posdef)\n",
    "\n",
    "    @property\n",
    "    def param_names(self):\n",
    "        return ['sigma2.measurement', 'sigma2.level', 'sigma2.trend']\n",
    "\n",
    "    @property\n",
    "    def start_params(self):\n",
    "        return [np.std(self.endog)]*3\n",
    "\n",
    "    def transform_params(self, unconstrained):\n",
    "        return unconstrained**2\n",
    "\n",
    "    def untransform_params(self, constrained):\n",
    "        return constrained**0.5\n",
    "\n",
    "    def update(self, params, *args, **kwargs):\n",
    "        params = super(LocalLinearTrend, self).update(params, *args, **kwargs)\n",
    "        \n",
    "        # Observation covariance\n",
    "        self.ssm['obs_cov',0,0] = params[0]\n",
    "\n",
    "        # State covariance\n",
    "        self.ssm[self._state_cov_idx] = params[1:]\n"
   ]
  },
  {
   "cell_type": "code",
   "execution_count": 127,
   "metadata": {},
   "outputs": [],
   "source": [
    "# Log transform\n",
    "df['lc'] = np.log(df['count'])"
   ]
  },
  {
   "cell_type": "code",
   "execution_count": 128,
   "metadata": {},
   "outputs": [
    {
     "name": "stdout",
     "output_type": "stream",
     "text": [
      "                           Statespace Model Results                           \n",
      "==============================================================================\n",
      "Dep. Variable:                     lc   No. Observations:                  203\n",
      "Model:               LocalLinearTrend   Log Likelihood                 203.121\n",
      "Date:                Thu, 02 Apr 2020   AIC                           -400.242\n",
      "Time:                        13:43:03   BIC                           -390.332\n",
      "Sample:                    03-29-2020   HQIC                          -396.232\n",
      "                         - 03-30-2020                                         \n",
      "Covariance Type:                  opg                                         \n",
      "======================================================================================\n",
      "                         coef    std err          z      P>|z|      [0.025      0.975]\n",
      "--------------------------------------------------------------------------------------\n",
      "sigma2.measurement     0.0010      0.001      1.615      0.106      -0.000       0.002\n",
      "sigma2.level           0.0046      0.001      3.711      0.000       0.002       0.007\n",
      "sigma2.trend           0.0002   8.54e-05      1.888      0.059   -6.18e-06       0.000\n",
      "===================================================================================\n",
      "Ljung-Box (Q):                       40.68   Jarque-Bera (JB):                91.33\n",
      "Prob(Q):                              0.44   Prob(JB):                         0.00\n",
      "Heteroskedasticity (H):               2.32   Skew:                             0.65\n",
      "Prob(H) (two-sided):                  0.00   Kurtosis:                         6.03\n",
      "===================================================================================\n",
      "\n",
      "Warnings:\n",
      "[1] Covariance matrix calculated using the outer product of gradients (complex-step).\n"
     ]
    },
    {
     "name": "stderr",
     "output_type": "stream",
     "text": [
      "/home/p-baleine/.local/share/virtualenvs/fabrication_of_state_of_emergency_20200330-PMno-HTX/lib/python3.8/site-packages/statsmodels/tsa/base/tsa_model.py:159: ValueWarning: No frequency information was provided, so inferred frequency 10T will be used.\n",
      "  warnings.warn('No frequency information was'\n"
     ]
    }
   ],
   "source": [
    "# Setup the model\n",
    "mod = LocalLinearTrend(df['lc'])\n",
    "\n",
    "# Fit it using MLE (recall that we are fitting the three variance parameters)\n",
    "res = mod.fit(disp=False)\n",
    "print(res.summary())"
   ]
  },
  {
   "cell_type": "code",
   "execution_count": 129,
   "metadata": {},
   "outputs": [],
   "source": [
    "predict = res.get_prediction()"
   ]
  },
  {
   "cell_type": "code",
   "execution_count": 130,
   "metadata": {},
   "outputs": [
    {
     "data": {
      "image/png": "[encoded data removed]",
      "text/plain": [
       "<Figure size 720x288 with 1 Axes>"
      ]
     },
     "metadata": {
      "needs_background": "light"
     },
     "output_type": "display_data"
    }
   ],
   "source": [
    "fig, ax = plt.subplots(figsize=(10,4))\n",
    "\n",
    "# Plot the results\n",
    "df['lc'].plot(ax=ax, style='k.', label='Observations')\n",
    "predict.predicted_mean.plot(ax=ax, label='One-step-ahead Prediction')\n",
    "predict_ci = predict.conf_int(alpha=0.05)\n",
    "predict_index = np.arange(len(predict_ci))\n",
    "ax.fill_between(predict_index[2:], predict_ci.iloc[2:, 0], predict_ci.iloc[2:, 1], alpha=0.1)\n",
    "\n",
    "legend = ax.legend(loc='lower left')"
   ]
  },
  {
   "cell_type": "code",
   "execution_count": 131,
   "metadata": {},
   "outputs": [],
   "source": [
    "trend = res.smoothed_state[1]"
   ]
  },
  {
   "cell_type": "code",
   "execution_count": 132,
   "metadata": {},
   "outputs": [
    {
     "data": {
      "image/png": "[encoded data removed]",
      "text/plain": [
       "<Figure size 900x288 with 2 Axes>"
      ]
     },
     "metadata": {
      "needs_background": "light"
     },
     "output_type": "display_data"
    }
   ],
   "source": [
    "fig, ax1 = plt.subplots()\n",
    "\n",
    "color = 'tab:red'\n",
    "ax1.set_xlabel('created_at')\n",
    "ax1.set_ylabel('log_count', color=color)\n",
    "ax1.plot(df.index, df['lc'], color=color)\n",
    "ax1.tick_params(axis='y', labelcolor=color)\n",
    "\n",
    "ax2 = ax1.twinx()\n",
    "\n",
    "color = 'tab:blue'\n",
    "ax2.set_ylabel('trend', color=color)\n",
    "ax2.plot(df.index, trend, color=color)\n",
    "ax2.tick_params(axis='y', labelcolor=color)\n",
    "\n",
    "fig.tight_layout()"
   ]
  },
  {
   "cell_type": "code",
   "execution_count": 136,
   "metadata": {},
   "outputs": [],
   "source": [
    "df['trend'] = trend\n",
    "df.to_csv('data/search.csv')"
   ]
  },
  {
   "cell_type": "markdown",
   "metadata": {},
   "source": [
    "A Field Guide to \"Fake News\"より、\n",
    "\n",
    "```\n",
    "While online and platform metrics often serve to take measure of engagement by\n",
    "means of what Theodore Porter calls “thin descriptions”[11] – i.e. aggregated\n",
    "quantities such as total likes, shares, posts – we suggest different ways of\n",
    "exploring how different publics engage with and ascribe meaning to fake news and\n",
    "how this moves and mobilises different actors in the process.\n",
    "```\n",
    "\n",
    "試しに、retweet 数で足切りした上で、時系列にその tweet を並べてみたい。\n",
    "まず、retweet 数の分布をしりたい"
   ]
  },
  {
   "cell_type": "code",
   "execution_count": 137,
   "metadata": {},
   "outputs": [],
   "source": [
    "Tweet = namedtuple('Tweet', ['id', 'retweet_count', 'created_at', 'url', 'screen_name', 'text'])\n",
    "\n",
    "def list_tweets(cursor):\n",
    "    s = Query.from_(tweets) \\\n",
    "    .join(users) \\\n",
    "    .on(tweets.tweeted_by == users.id) \\\n",
    "    .select(\n",
    "        tweets.id,\n",
    "        tweets.retweet_count,\n",
    "        tweets.created_at,\n",
    "        fn.Concat('https://twitter.com/', users.screen_name, '/status/', tweets.id).as_('url'),\n",
    "        users.screen_name,\n",
    "        tweets.text,\n",
    "    ) \\\n",
    "    .where(Term.isnull(tweets.retweeted_status))\n",
    "\n",
    "    print('SQL: {}'.format(s))\n",
    "    cursor.execute(str(s))\n",
    "    \n",
    "    return [Tweet._make(r) for r in cursor]"
   ]
  },
  {
   "cell_type": "code",
   "execution_count": 138,
   "metadata": {
    "scrolled": true
   },
   "outputs": [
    {
     "name": "stdout",
     "output_type": "stream",
     "text": [
      "SQL: SELECT `tweets`.`id`,`tweets`.`retweet_count`,`tweets`.`created_at`,CONCAT('https://twitter.com/',`users`.`screen_name`,'/status/',`tweets`.`id`) `url`,`users`.`screen_name`,`tweets`.`text` FROM `tweets` JOIN `users` ON `tweets`.`tweeted_by`=`users`.`id` WHERE `tweets`.`retweeted_status` IS NULL\n",
      "                                      id  retweet_count  \\\n",
      "created_at                                                \n",
      "2020-03-30 06:02:40  1244505303946629120              0   \n",
      "2020-03-30 07:28:52  1244526993904766976              1   \n",
      "2020-03-30 07:30:31  1244527409677778944              0   \n",
      "2020-03-30 07:10:00  1244522245180895234              0   \n",
      "2020-03-30 12:22:45  1244600954080473089              0   \n",
      "\n",
      "                                                                   url  \\\n",
      "created_at                                                               \n",
      "2020-03-30 06:02:40  https://twitter.com/____________hum/status/124...   \n",
      "2020-03-30 07:28:52  https://twitter.com/___________l__l/status/124...   \n",
      "2020-03-30 07:30:31  https://twitter.com/__________Bom/status/12445...   \n",
      "2020-03-30 07:10:00  https://twitter.com/__________pak/status/12445...   \n",
      "2020-03-30 12:22:45  https://twitter.com/__________tn0/status/12446...   \n",
      "\n",
      "                         screen_name  \\\n",
      "created_at                             \n",
      "2020-03-30 06:02:40  ____________hum   \n",
      "2020-03-30 07:28:52  ___________l__l   \n",
      "2020-03-30 07:30:31    __________Bom   \n",
      "2020-03-30 07:10:00    __________pak   \n",
      "2020-03-30 12:22:45    __________tn0   \n",
      "\n",
      "                                                                  text  \n",
      "created_at                                                              \n",
      "2020-03-30 06:02:40  「緊急事態宣言」「オーバーシュート」「ロックダウン」\\n用語の名称なんてクソどうでもええんだ...  \n",
      "2020-03-30 07:28:52  「緊急事態宣言を出してほしい」日本医師会が会見、医療崩壊に危機感\\nhttps://t.co...  \n",
      "2020-03-30 07:30:31  緊急事態宣言、はやくやって欲しいな......稼げなくて来月のことは不安だけど、永遠を奪われ...  \n",
      "2020-03-30 07:10:00  @kncl_711 や、配送サービス全部やってもはう笑笑 どうせロックダウンするんだから早く...  \n",
      "2020-03-30 12:22:45                            緊急事態宣言を否定するって笑えるなこの状況で  \n"
     ]
    }
   ],
   "source": [
    "with managed_cursor(buffered=True) as cursor:\n",
    "    data = list_tweets(cursor)\n",
    "    df = pd.DataFrame(data=data)\n",
    "    df = df.set_index('created_at')\n",
    "    print(df.head())"
   ]
  },
  {
   "cell_type": "code",
   "execution_count": 139,
   "metadata": {},
   "outputs": [
    {
     "data": {
      "text/plain": [
       "<matplotlib.axes._subplots.AxesSubplot at 0x7f60f89ab430>"
      ]
     },
     "execution_count": 139,
     "metadata": {},
     "output_type": "execute_result"
    },
    {
     "data": {
      "image/png": "[encoded data removed]",
      "text/plain": [
       "<Figure size 900x288 with 1 Axes>"
      ]
     },
     "metadata": {
      "needs_background": "light"
     },
     "output_type": "display_data"
    }
   ],
   "source": [
    "fig, ax = plt.subplots()\n",
    "df[(100 < df['retweet_count'])]['retweet_count'].hist(ax=ax, bins=100)"
   ]
  },
  {
   "cell_type": "code",
   "execution_count": 140,
   "metadata": {},
   "outputs": [
    {
     "data": {
      "text/plain": [
       "id               110319\n",
       "retweet_count    110319\n",
       "url              110319\n",
       "screen_name      110319\n",
       "text             110319\n",
       "dtype: int64"
      ]
     },
     "execution_count": 140,
     "metadata": {},
     "output_type": "execute_result"
    }
   ],
   "source": [
    "df.count()"
   ]
  },
  {
   "cell_type": "code",
   "execution_count": 141,
   "metadata": {},
   "outputs": [
    {
     "data": {
      "text/plain": [
       "id               66\n",
       "retweet_count    66\n",
       "url              66\n",
       "screen_name      66\n",
       "text             66\n",
       "dtype: int64"
      ]
     },
     "execution_count": 141,
     "metadata": {},
     "output_type": "execute_result"
    }
   ],
   "source": [
    "df[df['retweet_count'] > 1_000].count()"
   ]
  },
  {
   "cell_type": "code",
   "execution_count": 142,
   "metadata": {
    "scrolled": true
   },
   "outputs": [
    {
     "data": {
      "text/html": [
       "<div>\n",
       "<style scoped>\n",
       "    .dataframe tbody tr th:only-of-type {\n",
       "        vertical-align: middle;\n",
       "    }\n",
       "\n",
       "    .dataframe tbody tr th {\n",
       "        vertical-align: top;\n",
       "    }\n",
       "\n",
       "    .dataframe thead th {\n",
       "        text-align: right;\n",
       "    }\n",
       "</style>\n",
       "<table border=\"1\" class=\"dataframe\">\n",
       "  <thead>\n",
       "    <tr style=\"text-align: right;\">\n",
       "      <th></th>\n",
       "      <th>id</th>\n",
       "      <th>retweet_count</th>\n",
       "      <th>url</th>\n",
       "      <th>screen_name</th>\n",
       "      <th>text</th>\n",
       "    </tr>\n",
       "    <tr>\n",
       "      <th>created_at</th>\n",
       "      <th></th>\n",
       "      <th></th>\n",
       "      <th></th>\n",
       "      <th></th>\n",
       "      <th></th>\n",
       "    </tr>\n",
       "  </thead>\n",
       "  <tbody>\n",
       "    <tr>\n",
       "      <th>2020-03-29 07:26:43</th>\n",
       "      <td>1244164065653452800</td>\n",
       "      <td>1093</td>\n",
       "      <td>https://twitter.com/afpbbcom/status/1244164065...</td>\n",
       "      <td>afpbbcom</td>\n",
       "      <td>パリの街角をカモが悠々とお散歩、都市封鎖で人影なく https://t.co/pSonydK7ke</td>\n",
       "    </tr>\n",
       "    <tr>\n",
       "      <th>2020-03-31 03:19:31</th>\n",
       "      <td>1244826633292460032</td>\n",
       "      <td>2451</td>\n",
       "      <td>https://twitter.com/akasakapatricia/status/124...</td>\n",
       "      <td>akasakapatricia</td>\n",
       "      <td>都市封鎖されているウェールズの街に山羊たちが降りてきた！ https://t.co/aPV3...</td>\n",
       "    </tr>\n",
       "    <tr>\n",
       "      <th>2020-03-30 12:29:45</th>\n",
       "      <td>1244602713708433415</td>\n",
       "      <td>1222</td>\n",
       "      <td>https://twitter.com/akomugi/status/12446027137...</td>\n",
       "      <td>akomugi</td>\n",
       "      <td>日刊ゲンダイ記者さんの「夜間外出自粛を要請しておきながらこの時間に緊急会見って。ロック...</td>\n",
       "    </tr>\n",
       "    <tr>\n",
       "      <th>2020-03-30 12:00:13</th>\n",
       "      <td>1244595282920251392</td>\n",
       "      <td>2330</td>\n",
       "      <td>https://twitter.com/BFJNews/status/12445952829...</td>\n",
       "      <td>BFJNews</td>\n",
       "      <td>新型コロナの感染拡大を受け、「4月1日にロックダウン決定」という情報が拡散しています。\\...</td>\n",
       "    </tr>\n",
       "    <tr>\n",
       "      <th>2020-03-29 14:35:59</th>\n",
       "      <td>1244272095254548481</td>\n",
       "      <td>1389</td>\n",
       "      <td>https://twitter.com/C4Dbeginner/status/1244272...</td>\n",
       "      <td>C4Dbeginner</td>\n",
       "      <td>アジアと欧米でスピードが段違いで、日本や韓国がダイヤモンドプリンセスだー大邱だーって言う割に...</td>\n",
       "    </tr>\n",
       "    <tr>\n",
       "      <th>...</th>\n",
       "      <td>...</td>\n",
       "      <td>...</td>\n",
       "      <td>...</td>\n",
       "      <td>...</td>\n",
       "      <td>...</td>\n",
       "    </tr>\n",
       "    <tr>\n",
       "      <th>2020-03-30 03:53:46</th>\n",
       "      <td>1244472863509209088</td>\n",
       "      <td>2875</td>\n",
       "      <td>https://twitter.com/wadamasamune/status/124447...</td>\n",
       "      <td>wadamasamune</td>\n",
       "      <td>ロックダウン（都市封鎖）についてデマが流れています。正確な情報に留意しデマに流されないで。\\...</td>\n",
       "    </tr>\n",
       "    <tr>\n",
       "      <th>2020-03-29 07:24:16</th>\n",
       "      <td>1244163450160304128</td>\n",
       "      <td>2390</td>\n",
       "      <td>https://twitter.com/YahooNewsTopics/status/124...</td>\n",
       "      <td>YahooNewsTopics</td>\n",
       "      <td>【外出制限 欧州でDVが深刻化】\\nhttps://t.co/9xlntO1P7A\\n\\nイ...</td>\n",
       "    </tr>\n",
       "    <tr>\n",
       "      <th>2020-03-30 06:32:15</th>\n",
       "      <td>1244512745484996609</td>\n",
       "      <td>24642</td>\n",
       "      <td>https://twitter.com/YahooNewsTopics/status/124...</td>\n",
       "      <td>YahooNewsTopics</td>\n",
       "      <td>【日本医師会 緊急事態宣言だして】\\nhttps://t.co/pK7JGNBPgc\\n\\n...</td>\n",
       "    </tr>\n",
       "    <tr>\n",
       "      <th>2020-03-29 04:51:42</th>\n",
       "      <td>1244125056415891457</td>\n",
       "      <td>3018</td>\n",
       "      <td>https://twitter.com/yanabo/status/124412505641...</td>\n",
       "      <td>yanabo</td>\n",
       "      <td>ロックダウン状態になると、インターネットと電気と水道とガスと物流とコンビニと携帯電話と病院と...</td>\n",
       "    </tr>\n",
       "    <tr>\n",
       "      <th>2020-03-30 07:25:49</th>\n",
       "      <td>1244526228393955329</td>\n",
       "      <td>2455</td>\n",
       "      <td>https://twitter.com/zapa/status/12445262283939...</td>\n",
       "      <td>zapa</td>\n",
       "      <td>週末は自粛要請で、平日は電車に乗って会社行って、日本医師会からは「緊急事態宣言を出してほしい...</td>\n",
       "    </tr>\n",
       "  </tbody>\n",
       "</table>\n",
       "<p>66 rows × 5 columns</p>\n",
       "</div>"
      ],
      "text/plain": [
       "                                      id  retweet_count  \\\n",
       "created_at                                                \n",
       "2020-03-29 07:26:43  1244164065653452800           1093   \n",
       "2020-03-31 03:19:31  1244826633292460032           2451   \n",
       "2020-03-30 12:29:45  1244602713708433415           1222   \n",
       "2020-03-30 12:00:13  1244595282920251392           2330   \n",
       "2020-03-29 14:35:59  1244272095254548481           1389   \n",
       "...                                  ...            ...   \n",
       "2020-03-30 03:53:46  1244472863509209088           2875   \n",
       "2020-03-29 07:24:16  1244163450160304128           2390   \n",
       "2020-03-30 06:32:15  1244512745484996609          24642   \n",
       "2020-03-29 04:51:42  1244125056415891457           3018   \n",
       "2020-03-30 07:25:49  1244526228393955329           2455   \n",
       "\n",
       "                                                                   url  \\\n",
       "created_at                                                               \n",
       "2020-03-29 07:26:43  https://twitter.com/afpbbcom/status/1244164065...   \n",
       "2020-03-31 03:19:31  https://twitter.com/akasakapatricia/status/124...   \n",
       "2020-03-30 12:29:45  https://twitter.com/akomugi/status/12446027137...   \n",
       "2020-03-30 12:00:13  https://twitter.com/BFJNews/status/12445952829...   \n",
       "2020-03-29 14:35:59  https://twitter.com/C4Dbeginner/status/1244272...   \n",
       "...                                                                ...   \n",
       "2020-03-30 03:53:46  https://twitter.com/wadamasamune/status/124447...   \n",
       "2020-03-29 07:24:16  https://twitter.com/YahooNewsTopics/status/124...   \n",
       "2020-03-30 06:32:15  https://twitter.com/YahooNewsTopics/status/124...   \n",
       "2020-03-29 04:51:42  https://twitter.com/yanabo/status/124412505641...   \n",
       "2020-03-30 07:25:49  https://twitter.com/zapa/status/12445262283939...   \n",
       "\n",
       "                         screen_name  \\\n",
       "created_at                             \n",
       "2020-03-29 07:26:43         afpbbcom   \n",
       "2020-03-31 03:19:31  akasakapatricia   \n",
       "2020-03-30 12:29:45          akomugi   \n",
       "2020-03-30 12:00:13          BFJNews   \n",
       "2020-03-29 14:35:59      C4Dbeginner   \n",
       "...                              ...   \n",
       "2020-03-30 03:53:46     wadamasamune   \n",
       "2020-03-29 07:24:16  YahooNewsTopics   \n",
       "2020-03-30 06:32:15  YahooNewsTopics   \n",
       "2020-03-29 04:51:42           yanabo   \n",
       "2020-03-30 07:25:49             zapa   \n",
       "\n",
       "                                                                  text  \n",
       "created_at                                                              \n",
       "2020-03-29 07:26:43  パリの街角をカモが悠々とお散歩、都市封鎖で人影なく https://t.co/pSonydK7ke  \n",
       "2020-03-31 03:19:31  都市封鎖されているウェールズの街に山羊たちが降りてきた！ https://t.co/aPV3...  \n",
       "2020-03-30 12:29:45  日刊ゲンダイ記者さんの「夜間外出自粛を要請しておきながらこの時間に緊急会見って。ロック...  \n",
       "2020-03-30 12:00:13  新型コロナの感染拡大を受け、「4月1日にロックダウン決定」という情報が拡散しています。\\...  \n",
       "2020-03-29 14:35:59  アジアと欧米でスピードが段違いで、日本や韓国がダイヤモンドプリンセスだー大邱だーって言う割に...  \n",
       "...                                                                ...  \n",
       "2020-03-30 03:53:46  ロックダウン（都市封鎖）についてデマが流れています。正確な情報に留意しデマに流されないで。\\...  \n",
       "2020-03-29 07:24:16  【外出制限 欧州でDVが深刻化】\\nhttps://t.co/9xlntO1P7A\\n\\nイ...  \n",
       "2020-03-30 06:32:15  【日本医師会 緊急事態宣言だして】\\nhttps://t.co/pK7JGNBPgc\\n\\n...  \n",
       "2020-03-29 04:51:42  ロックダウン状態になると、インターネットと電気と水道とガスと物流とコンビニと携帯電話と病院と...  \n",
       "2020-03-30 07:25:49  週末は自粛要請で、平日は電車に乗って会社行って、日本医師会からは「緊急事態宣言を出してほしい...  \n",
       "\n",
       "[66 rows x 5 columns]"
      ]
     },
     "execution_count": 142,
     "metadata": {},
     "output_type": "execute_result"
    }
   ],
   "source": [
    "df[df['retweet_count'] > 1_000]"
   ]
  },
  {
   "cell_type": "code",
   "execution_count": 143,
   "metadata": {},
   "outputs": [
    {
     "data": {
      "text/plain": [
       "<matplotlib.axes._subplots.AxesSubplot at 0x7f60f036ab20>"
      ]
     },
     "execution_count": 143,
     "metadata": {},
     "output_type": "execute_result"
    },
    {
     "data": {
      "image/png": "[encoded data removed]",
      "text/plain": [
       "<Figure size 900x288 with 1 Axes>"
      ]
     },
     "metadata": {
      "needs_background": "light"
     },
     "output_type": "display_data"
    }
   ],
   "source": [
    "fig, ax = plt.subplots()\n",
    "df[df['retweet_count'] > 1_000]['retweet_count'].hist(ax=ax, bins=100)"
   ]
  },
  {
   "cell_type": "code",
   "execution_count": 144,
   "metadata": {},
   "outputs": [],
   "source": [
    "import hashlib\n",
    "\n",
    "def naive_hash(text):\n",
    "    return hashlib.sha1(text.encode('utf-8')).hexdigest()\n",
    "\n",
    "df_gt_1_000_retweets = df[df['retweet_count'] > 1_000]\n",
    "# df_gt_1_000_retweets.drop('id', axis=1, inplace=True)\n",
    "#df_gt_1_000_retweets.loc[:, 'screen_name'] = \\\n",
    "#    df_gt_1_000_retweets.loc[:, 'screen_name'].map(naive_hash)"
   ]
  },
  {
   "cell_type": "code",
   "execution_count": 145,
   "metadata": {
    "scrolled": true
   },
   "outputs": [
    {
     "data": {
      "text/html": [
       "<div>\n",
       "<style scoped>\n",
       "    .dataframe tbody tr th:only-of-type {\n",
       "        vertical-align: middle;\n",
       "    }\n",
       "\n",
       "    .dataframe tbody tr th {\n",
       "        vertical-align: top;\n",
       "    }\n",
       "\n",
       "    .dataframe thead th {\n",
       "        text-align: right;\n",
       "    }\n",
       "</style>\n",
       "<table border=\"1\" class=\"dataframe\">\n",
       "  <thead>\n",
       "    <tr style=\"text-align: right;\">\n",
       "      <th></th>\n",
       "      <th>id</th>\n",
       "      <th>retweet_count</th>\n",
       "      <th>url</th>\n",
       "      <th>screen_name</th>\n",
       "      <th>text</th>\n",
       "    </tr>\n",
       "    <tr>\n",
       "      <th>created_at</th>\n",
       "      <th></th>\n",
       "      <th></th>\n",
       "      <th></th>\n",
       "      <th></th>\n",
       "      <th></th>\n",
       "    </tr>\n",
       "  </thead>\n",
       "  <tbody>\n",
       "    <tr>\n",
       "      <th>2020-03-29 07:26:43</th>\n",
       "      <td>1244164065653452800</td>\n",
       "      <td>1093</td>\n",
       "      <td>https://twitter.com/afpbbcom/status/1244164065...</td>\n",
       "      <td>afpbbcom</td>\n",
       "      <td>パリの街角をカモが悠々とお散歩、都市封鎖で人影なく https://t.co/pSonydK7ke</td>\n",
       "    </tr>\n",
       "    <tr>\n",
       "      <th>2020-03-31 03:19:31</th>\n",
       "      <td>1244826633292460032</td>\n",
       "      <td>2451</td>\n",
       "      <td>https://twitter.com/akasakapatricia/status/124...</td>\n",
       "      <td>akasakapatricia</td>\n",
       "      <td>都市封鎖されているウェールズの街に山羊たちが降りてきた！ https://t.co/aPV3...</td>\n",
       "    </tr>\n",
       "    <tr>\n",
       "      <th>2020-03-30 12:29:45</th>\n",
       "      <td>1244602713708433415</td>\n",
       "      <td>1222</td>\n",
       "      <td>https://twitter.com/akomugi/status/12446027137...</td>\n",
       "      <td>akomugi</td>\n",
       "      <td>日刊ゲンダイ記者さんの「夜間外出自粛を要請しておきながらこの時間に緊急会見って。ロック...</td>\n",
       "    </tr>\n",
       "    <tr>\n",
       "      <th>2020-03-30 12:00:13</th>\n",
       "      <td>1244595282920251392</td>\n",
       "      <td>2330</td>\n",
       "      <td>https://twitter.com/BFJNews/status/12445952829...</td>\n",
       "      <td>BFJNews</td>\n",
       "      <td>新型コロナの感染拡大を受け、「4月1日にロックダウン決定」という情報が拡散しています。\\...</td>\n",
       "    </tr>\n",
       "    <tr>\n",
       "      <th>2020-03-29 14:35:59</th>\n",
       "      <td>1244272095254548481</td>\n",
       "      <td>1389</td>\n",
       "      <td>https://twitter.com/C4Dbeginner/status/1244272...</td>\n",
       "      <td>C4Dbeginner</td>\n",
       "      <td>アジアと欧米でスピードが段違いで、日本や韓国がダイヤモンドプリンセスだー大邱だーって言う割に...</td>\n",
       "    </tr>\n",
       "    <tr>\n",
       "      <th>...</th>\n",
       "      <td>...</td>\n",
       "      <td>...</td>\n",
       "      <td>...</td>\n",
       "      <td>...</td>\n",
       "      <td>...</td>\n",
       "    </tr>\n",
       "    <tr>\n",
       "      <th>2020-03-30 03:53:46</th>\n",
       "      <td>1244472863509209088</td>\n",
       "      <td>2875</td>\n",
       "      <td>https://twitter.com/wadamasamune/status/124447...</td>\n",
       "      <td>wadamasamune</td>\n",
       "      <td>ロックダウン（都市封鎖）についてデマが流れています。正確な情報に留意しデマに流されないで。\\...</td>\n",
       "    </tr>\n",
       "    <tr>\n",
       "      <th>2020-03-29 07:24:16</th>\n",
       "      <td>1244163450160304128</td>\n",
       "      <td>2390</td>\n",
       "      <td>https://twitter.com/YahooNewsTopics/status/124...</td>\n",
       "      <td>YahooNewsTopics</td>\n",
       "      <td>【外出制限 欧州でDVが深刻化】\\nhttps://t.co/9xlntO1P7A\\n\\nイ...</td>\n",
       "    </tr>\n",
       "    <tr>\n",
       "      <th>2020-03-30 06:32:15</th>\n",
       "      <td>1244512745484996609</td>\n",
       "      <td>24642</td>\n",
       "      <td>https://twitter.com/YahooNewsTopics/status/124...</td>\n",
       "      <td>YahooNewsTopics</td>\n",
       "      <td>【日本医師会 緊急事態宣言だして】\\nhttps://t.co/pK7JGNBPgc\\n\\n...</td>\n",
       "    </tr>\n",
       "    <tr>\n",
       "      <th>2020-03-29 04:51:42</th>\n",
       "      <td>1244125056415891457</td>\n",
       "      <td>3018</td>\n",
       "      <td>https://twitter.com/yanabo/status/124412505641...</td>\n",
       "      <td>yanabo</td>\n",
       "      <td>ロックダウン状態になると、インターネットと電気と水道とガスと物流とコンビニと携帯電話と病院と...</td>\n",
       "    </tr>\n",
       "    <tr>\n",
       "      <th>2020-03-30 07:25:49</th>\n",
       "      <td>1244526228393955329</td>\n",
       "      <td>2455</td>\n",
       "      <td>https://twitter.com/zapa/status/12445262283939...</td>\n",
       "      <td>zapa</td>\n",
       "      <td>週末は自粛要請で、平日は電車に乗って会社行って、日本医師会からは「緊急事態宣言を出してほしい...</td>\n",
       "    </tr>\n",
       "  </tbody>\n",
       "</table>\n",
       "<p>66 rows × 5 columns</p>\n",
       "</div>"
      ],
      "text/plain": [
       "                                      id  retweet_count  \\\n",
       "created_at                                                \n",
       "2020-03-29 07:26:43  1244164065653452800           1093   \n",
       "2020-03-31 03:19:31  1244826633292460032           2451   \n",
       "2020-03-30 12:29:45  1244602713708433415           1222   \n",
       "2020-03-30 12:00:13  1244595282920251392           2330   \n",
       "2020-03-29 14:35:59  1244272095254548481           1389   \n",
       "...                                  ...            ...   \n",
       "2020-03-30 03:53:46  1244472863509209088           2875   \n",
       "2020-03-29 07:24:16  1244163450160304128           2390   \n",
       "2020-03-30 06:32:15  1244512745484996609          24642   \n",
       "2020-03-29 04:51:42  1244125056415891457           3018   \n",
       "2020-03-30 07:25:49  1244526228393955329           2455   \n",
       "\n",
       "                                                                   url  \\\n",
       "created_at                                                               \n",
       "2020-03-29 07:26:43  https://twitter.com/afpbbcom/status/1244164065...   \n",
       "2020-03-31 03:19:31  https://twitter.com/akasakapatricia/status/124...   \n",
       "2020-03-30 12:29:45  https://twitter.com/akomugi/status/12446027137...   \n",
       "2020-03-30 12:00:13  https://twitter.com/BFJNews/status/12445952829...   \n",
       "2020-03-29 14:35:59  https://twitter.com/C4Dbeginner/status/1244272...   \n",
       "...                                                                ...   \n",
       "2020-03-30 03:53:46  https://twitter.com/wadamasamune/status/124447...   \n",
       "2020-03-29 07:24:16  https://twitter.com/YahooNewsTopics/status/124...   \n",
       "2020-03-30 06:32:15  https://twitter.com/YahooNewsTopics/status/124...   \n",
       "2020-03-29 04:51:42  https://twitter.com/yanabo/status/124412505641...   \n",
       "2020-03-30 07:25:49  https://twitter.com/zapa/status/12445262283939...   \n",
       "\n",
       "                         screen_name  \\\n",
       "created_at                             \n",
       "2020-03-29 07:26:43         afpbbcom   \n",
       "2020-03-31 03:19:31  akasakapatricia   \n",
       "2020-03-30 12:29:45          akomugi   \n",
       "2020-03-30 12:00:13          BFJNews   \n",
       "2020-03-29 14:35:59      C4Dbeginner   \n",
       "...                              ...   \n",
       "2020-03-30 03:53:46     wadamasamune   \n",
       "2020-03-29 07:24:16  YahooNewsTopics   \n",
       "2020-03-30 06:32:15  YahooNewsTopics   \n",
       "2020-03-29 04:51:42           yanabo   \n",
       "2020-03-30 07:25:49             zapa   \n",
       "\n",
       "                                                                  text  \n",
       "created_at                                                              \n",
       "2020-03-29 07:26:43  パリの街角をカモが悠々とお散歩、都市封鎖で人影なく https://t.co/pSonydK7ke  \n",
       "2020-03-31 03:19:31  都市封鎖されているウェールズの街に山羊たちが降りてきた！ https://t.co/aPV3...  \n",
       "2020-03-30 12:29:45  日刊ゲンダイ記者さんの「夜間外出自粛を要請しておきながらこの時間に緊急会見って。ロック...  \n",
       "2020-03-30 12:00:13  新型コロナの感染拡大を受け、「4月1日にロックダウン決定」という情報が拡散しています。\\...  \n",
       "2020-03-29 14:35:59  アジアと欧米でスピードが段違いで、日本や韓国がダイヤモンドプリンセスだー大邱だーって言う割に...  \n",
       "...                                                                ...  \n",
       "2020-03-30 03:53:46  ロックダウン（都市封鎖）についてデマが流れています。正確な情報に留意しデマに流されないで。\\...  \n",
       "2020-03-29 07:24:16  【外出制限 欧州でDVが深刻化】\\nhttps://t.co/9xlntO1P7A\\n\\nイ...  \n",
       "2020-03-30 06:32:15  【日本医師会 緊急事態宣言だして】\\nhttps://t.co/pK7JGNBPgc\\n\\n...  \n",
       "2020-03-29 04:51:42  ロックダウン状態になると、インターネットと電気と水道とガスと物流とコンビニと携帯電話と病院と...  \n",
       "2020-03-30 07:25:49  週末は自粛要請で、平日は電車に乗って会社行って、日本医師会からは「緊急事態宣言を出してほしい...  \n",
       "\n",
       "[66 rows x 5 columns]"
      ]
     },
     "execution_count": 145,
     "metadata": {},
     "output_type": "execute_result"
    }
   ],
   "source": [
    "df_gt_1_000_retweets"
   ]
  },
  {
   "cell_type": "code",
   "execution_count": 146,
   "metadata": {},
   "outputs": [],
   "source": [
    "df_gt_1_000_retweets.to_csv('data/over_1_000_retweets.csv')"
   ]
  },
  {
   "cell_type": "code",
   "execution_count": null,
   "metadata": {},
   "outputs": [],
   "source": []
  }
 ],
 "metadata": {
  "kernelspec": {
   "display_name": "Python 3",
   "language": "python",
   "name": "python3"
  },
  "language_info": {
   "codemirror_mode": {
    "name": "ipython",
    "version": 3
   },
   "file_extension": ".py",
   "mimetype": "text/x-python",
   "name": "python",
   "nbconvert_exporter": "python",
   "pygments_lexer": "ipython3",
   "version": "3.8.1"
  }
 },
 "nbformat": 4,
 "nbformat_minor": 4
}
